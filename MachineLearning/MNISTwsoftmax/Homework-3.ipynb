{
 "cells": [
  {
   "cell_type": "markdown",
   "metadata": {},
   "source": [
    "# Homework 3: Softmax Regression\n",
    "## Due October 3rd\n",
    "\n",
    "## 1 Loading Digits\n",
    "One of the most common uses of contemporary machine learning applications is in the processing of large image datasets.  One of the earliest commercial applications of ML was in mapping a handwritten digit (say, from a scanned copy of a check) to its corresponding digital representation.  This fits very well in our framework for machine learning if we recognize that the pixel values in an image can be viewed as a vector of features $\\mathbf{x}$, and that the prediction that we're aiming for is the numerical digit:\n",
    "$$\n",
    "\\mathcal{F}(\\mathbf{x},\\mathbf{w}) = y\n",
    "$$\n",
    "$$\n",
    "y \\in \\{0,1,\\ldots,9\\}.\n",
    "$$\n",
    "In this exercise, we will use softmax regression as a model to map 8x8 grayscale images to digit labels.  \n",
    "\n",
    "Our first course of action will be to load a dataset. Fortunately, scikit-learn comes prepackaged with this dataset, simply called \"the digits dataset\"."
   ]
  },
  {
   "cell_type": "code",
   "execution_count": 1,
   "metadata": {},
   "outputs": [
    {
     "name": "stdout",
     "output_type": "stream",
     "text": [
      "(1797, 64)\n"
     ]
    }
   ],
   "source": [
    "import sklearn as skl\n",
    "import pandas as pd\n",
    "from sklearn.model_selection import train_test_split\n",
    "from sklearn import datasets  # Import the sklearn datasets module\n",
    "\n",
    "data = datasets.load_digits()\n",
    "\n",
    "x = data.data\n",
    "y = data.target\n",
    "\n",
    "\n",
    "x_train,x_test,y_train,y_test =  skl.model_selection.train_test_split(x,y)\n",
    "\n",
    "print(x.shape)"
   ]
  },
  {
   "cell_type": "code",
   "execution_count": null,
   "metadata": {},
   "outputs": [],
   "source": [
    "print(len(x[0]))"
   ]
  },
  {
   "cell_type": "markdown",
   "metadata": {},
   "source": [
    "Note the shape of $x$.  It has 1797 digit instances and 64 features.  The 64 entries represent a flattened version of an 8x8 image.  In fact, if we want to recover the associated image, we can just reshape the entry back into an 8x8 array"
   ]
  },
  {
   "cell_type": "code",
   "execution_count": 2,
   "metadata": {},
   "outputs": [
    {
     "name": "stdout",
     "output_type": "stream",
     "text": [
      "This digit is a 9\n"
     ]
    },
    {
     "data": {
      "image/png": "[encoded data removed]",
      "text/plain": [
       "<Figure size 432x288 with 1 Axes>"
      ]
     },
     "metadata": {
      "needs_background": "light"
     },
     "output_type": "display_data"
    }
   ],
   "source": [
    "import matplotlib.pyplot as plt\n",
    "plt.imshow(x[547,:].reshape((8,8)))\n",
    "print(\"This digit is a\",y[547])\n",
    "plt.show()"
   ]
  },
  {
   "cell_type": "markdown",
   "metadata": {},
   "source": [
    "However, for this model, we'll be using the flattened version.\n",
    "\n",
    "## 2 Training digits (50 pts)\n",
    "**Your task is to train a softmax regression model that takes an image from the digits dataset, and outputs a (hopefully accurate) prediction of what digit it is.** The application should be quite similar to what we did for the Iris dataset, albeit with a different $m$, $n$ (4 vs 64), and $N$ (3 vs 10).  The steps are as follows:\n",
    "- Encode $y$ using a one-hot scheme.\n",
    "- Initialize a weight matrix (n by N).\n",
    "- Implement the softmax function.\n",
    "- Implement the categorical cross-entropy function.\n",
    "- Implement a function that returns the gradient of the objective function with respect to the weight matrix.\n",
    "- Use gradient descent to find good values for $W$.  You may have to tune your learning rate $\\eta$, and you'll want to devise a stopping criterion.\n",
    "\n",
    "**After training your model, report the accuracy on both the training and test sets.**  Just for comparison, softmax regression yields around 97\\% accuracy for me (albeit your numbers will vary due to the randomness in the dataset splitting)."
   ]
  },
  {
   "cell_type": "code",
   "execution_count": 3,
   "metadata": {},
   "outputs": [
    {
     "name": "stderr",
     "output_type": "stream",
     "text": [
      "<ipython-input-3-9f47bbe98589>:24: RuntimeWarning: divide by zero encountered in log\n",
      "  return -np.sum(T*np.log(S))\n",
      "<ipython-input-3-9f47bbe98589>:24: RuntimeWarning: invalid value encountered in multiply\n",
      "  return -np.sum(T*np.log(S))\n"
     ]
    },
    {
     "name": "stdout",
     "output_type": "stream",
     "text": [
      "Test set accuracy: 0.94\n"
     ]
    }
   ],
   "source": [
    "import numpy as np\n",
    "\n",
    "m = x_train.shape[0]\n",
    "n = x_train.shape[1]\n",
    "N = 10\n",
    "\n",
    "\n",
    "#Encoding y into one-hot scheme. T in notational form\n",
    "one_hot = np.zeros((y_train.shape[0],N))\n",
    "for t,yy in zip(one_hot,y_train):\n",
    "    t[yy]=1 \n",
    "\n",
    "#initilize Phi training\n",
    "Phitraining = np.hstack((x_train,np.ones((x_train.shape[0],1))))\n",
    "\n",
    "#start with random weights\n",
    "w = np.random.randn(n+1,N)\n",
    "\n",
    "#weighted matrix achieved using matrix multiplication. A in notational form\n",
    "wgt_mat = Phitraining @ w\n",
    "\n",
    "\n",
    "def L(T,S): #borrowing previously made code -- cross-entropy\n",
    "    return -np.sum(T*np.log(S))\n",
    "\n",
    "def gradient(y_obs,y_pred,Phi): #borrowing gradient function \n",
    "    return - Phi.T @ (one_hot - y_pred)\n",
    "\n",
    "def softmax(A): #softmax\n",
    "    numerator = np.exp(A)\n",
    "    denominator = numerator.sum(axis=1)\n",
    "    return numerator/denominator[:,np.newaxis]\n",
    "\n",
    "S = softmax(Phitraining@w)\n",
    "\n",
    "\n",
    "eta = 3e-4\n",
    "L_record = []\n",
    "for t in range(10000):\n",
    "    L_record.append(L(one_hot,S))\n",
    "    S = softmax(Phitraining@w)\n",
    "    g = gradient(one_hot,S,Phitraining)\n",
    "    w -= eta*g\n",
    "   \n",
    "#watching the regression below\n",
    "#print(L_record)\n",
    "Phitest = np.hstack((x_test,np.ones((x_test.shape[0],1))))\n",
    "S = softmax(Phitest @ w)\n",
    "y_pred = np.argmax(S,axis=1)\n",
    "\n",
    "\n",
    "Phi_test = np.hstack((x_test,np.ones((x_test.shape[0],1))))\n",
    "S_test = softmax(Phi_test@w)\n",
    "y_pred = np.argmax(S_test,axis=1)\n",
    "\n",
    "print('Test set accuracy:', np.sum(y_pred == y_test)/len(y_pred))"
   ]
  },
  {
   "cell_type": "code",
   "execution_count": null,
   "metadata": {},
   "outputs": [],
   "source": []
  },
  {
   "cell_type": "markdown",
   "metadata": {},
   "source": [
    "## 3 Training MNIST (25 pts)\n",
    "The digits problem is interesting, but it's hardly 'big'.  It's also very low resolution, and has been heavily curated.  A more realistic dataset is given by the so-called [MNIST Dataset](https://en.wikipedia.org/wiki/MNIST_database), which is a set of over 70000 28x28 digits.  We can load it easily using scikit-learn"
   ]
  },
  {
   "cell_type": "code",
   "execution_count": 4,
   "metadata": {},
   "outputs": [
    {
     "name": "stdout",
     "output_type": "stream",
     "text": [
      "This digit is a 3\n"
     ]
    },
    {
     "data": {
      "image/png": "[encoded data removed]",
      "text/plain": [
       "<Figure size 432x288 with 2 Axes>"
      ]
     },
     "metadata": {
      "needs_background": "light"
     },
     "output_type": "display_data"
    }
   ],
   "source": [
    "from sklearn import datasets  # Import the sklearn datasets module\n",
    "import matplotlib.pyplot as plt\n",
    "from sklearn.datasets import fetch_openml\n",
    "\n",
    "#Load the dataset\n",
    "\n",
    "data = datasets.fetch_openml('mnist_784')\n",
    "\n",
    "\n",
    "x = data.data/256 # Note that MNIST hasn't yet been scaled to 0-1 from the original 8 it.  Dividing by 2^8 does this for us\n",
    "\n",
    "\n",
    "y = data.target\n",
    "\n",
    "\n",
    "x_train,x_test,y_train,y_test =  skl.model_selection.train_test_split(x,y)\n",
    "\n",
    "plt.imshow(x[25000].reshape(28,28))\n",
    "print(\"This digit is a\",y[25000])\n",
    "plt.colorbar()\n",
    "plt.show()"
   ]
  },
  {
   "cell_type": "markdown",
   "metadata": {},
   "source": [
    "**Adapt your code from above, and apply it to the MNIST dataset.** If your code is written sensibly, this should take almost no modification.  What it *will* require is substantially more computational time: be sure that your code is working properly on the digits dataset before graduating to MNIST.  "
   ]
  },
  {
   "cell_type": "code",
   "execution_count": 5,
   "metadata": {},
   "outputs": [
    {
     "name": "stdout",
     "output_type": "stream",
     "text": [
      "0 Cost: 120884.95318036253\n",
      "10 Cost: 98552.75284272303\n",
      "20 Cost: 81503.38992952094\n",
      "30 Cost: 69913.34418201543\n",
      "40 Cost: 61808.78695777149\n",
      "50 Cost: 55918.68378824033\n",
      "60 Cost: 51474.36150695048\n",
      "70 Cost: 48009.44482344127\n",
      "80 Cost: 45232.73918757839\n",
      "90 Cost: 42955.8943124582\n",
      "100 Cost: 41052.76456378892\n",
      "110 Cost: 39436.12034069836\n",
      "120 Cost: 38043.89374738046\n",
      "130 Cost: 36830.78917768588\n",
      "140 Cost: 35763.00431382094\n",
      "150 Cost: 34814.81072366957\n",
      "160 Cost: 33966.27951860985\n",
      "170 Cost: 33201.731754357475\n",
      "180 Cost: 32508.65931450412\n",
      "190 Cost: 31876.95839240644\n",
      "200 Cost: 31298.375128771277\n",
      "210 Cost: 30766.09806209493\n",
      "220 Cost: 30274.45399959646\n",
      "230 Cost: 29818.677941544152\n",
      "240 Cost: 29394.736833357143\n",
      "250 Cost: 28999.19298899891\n",
      "260 Cost: 28629.097128005997\n",
      "270 Cost: 28281.903780951772\n",
      "280 Cost: 27955.40377663773\n",
      "290 Cost: 27647.66990701061\n",
      "300 Cost: 27357.012854599052\n",
      "310 Cost: 27081.94518289185\n",
      "320 Cost: 26821.151713847914\n",
      "330 Cost: 26573.465004118883\n",
      "340 Cost: 26337.844920931864\n",
      "350 Cost: 26113.361536732664\n",
      "360 Cost: 25899.18072759973\n",
      "370 Cost: 25694.551987653787\n",
      "380 Cost: 25498.798069994304\n",
      "390 Cost: 25311.30614121743\n",
      "400 Cost: 25131.520196552243\n",
      "410 Cost: 24958.934529978\n",
      "420 Cost: 24793.08809125686\n",
      "430 Cost: 24633.5595918237\n",
      "440 Cost: 24479.96324557198\n",
      "450 Cost: 24331.94505003223\n",
      "460 Cost: 24189.17952922996\n",
      "470 Cost: 24051.366872385435\n",
      "480 Cost: 23918.230413167723\n",
      "490 Cost: 23789.51440289507\n",
      "500 Cost: 23664.982038248196\n",
      "510 Cost: 23544.413710014116\n",
      "520 Cost: 23427.60544433688\n",
      "530 Cost: 23314.367512095836\n",
      "540 Cost: 23204.523185510585\n",
      "550 Cost: 23097.90762399968\n",
      "560 Cost: 22994.36687379368\n",
      "570 Cost: 22893.756967899422\n",
      "580 Cost: 22795.943114794165\n",
      "590 Cost: 22700.79896574674\n",
      "600 Cost: 22608.205951962216\n",
      "610 Cost: 22518.052683859303\n",
      "620 Cost: 22430.234405746927\n",
      "630 Cost: 22344.6524999912\n",
      "640 Cost: 22261.21403547623\n",
      "650 Cost: 22179.83135577962\n",
      "660 Cost: 22100.4217030185\n",
      "670 Cost: 22022.906873788364\n",
      "680 Cost: 21947.212904022825\n",
      "690 Cost: 21873.269779957558\n",
      "700 Cost: 21801.011172692073\n",
      "710 Cost: 21730.37419411577\n",
      "720 Cost: 21661.29917220438\n",
      "730 Cost: 21593.729443903117\n",
      "740 Cost: 21527.61116400019\n",
      "750 Cost: 21462.89312855733\n",
      "760 Cost: 21399.526611610705\n",
      "770 Cost: 21337.46521398426\n",
      "780 Cost: 21276.66472317176\n",
      "790 Cost: 21217.08298334659\n",
      "800 Cost: 21158.67977464862\n",
      "810 Cost: 21101.416700978894\n",
      "820 Cost: 21045.257085605026\n",
      "830 Cost: 20990.165873945272\n",
      "840 Cost: 20936.109542957412\n",
      "850 Cost: 20883.05601661049\n",
      "860 Cost: 20830.974586964327\n",
      "870 Cost: 20779.835840424108\n",
      "880 Cost: 20729.611588775264\n",
      "890 Cost: 20680.274804637807\n",
      "900 Cost: 20631.799561010535\n",
      "910 Cost: 20584.160974603517\n",
      "920 Cost: 20537.3351526824\n",
      "930 Cost: 20491.299143170963\n",
      "940 Cost: 20446.03088777948\n",
      "950 Cost: 20401.509177945038\n",
      "960 Cost: 20357.713613387285\n",
      "970 Cost: 20314.624563098718\n",
      "980 Cost: 20272.22312860279\n",
      "990 Cost: 20230.491109326227\n",
      "1000 Cost: 20189.410969943707\n",
      "1010 Cost: 20148.96580956389\n",
      "1020 Cost: 20109.139332635797\n",
      "1030 Cost: 20069.9158214634\n",
      "1040 Cost: 20031.280110224983\n",
      "1050 Cost: 19993.217560400735\n",
      "1060 Cost: 19955.71403752012\n",
      "1070 Cost: 19918.755889145723\n",
      "1080 Cost: 19882.329924017307\n",
      "1090 Cost: 19846.423392284378\n",
      "1100 Cost: 19811.023966761204\n",
      "1110 Cost: 19776.11972514245\n",
      "1120 Cost: 19741.699133121834\n",
      "1130 Cost: 19707.75102836057\n",
      "1140 Cost: 19674.264605255292\n",
      "1150 Cost: 19641.22940045922\n",
      "1160 Cost: 19608.63527911276\n",
      "1170 Cost: 19576.47242174322\n",
      "1180 Cost: 19544.731311795425\n",
      "1190 Cost: 19513.4027237579\n",
      "1200 Cost: 19482.477711851217\n",
      "1210 Cost: 19451.947599247655\n",
      "1220 Cost: 19421.80396779263\n",
      "1230 Cost: 19392.03864820108\n",
      "1240 Cost: 19362.643710702625\n",
      "1250 Cost: 19333.61145611198\n",
      "1260 Cost: 19304.93440730163\n",
      "1270 Cost: 19276.605301055824\n",
      "1280 Cost: 19248.61708028584\n",
      "1290 Cost: 19220.962886587848\n",
      "1300 Cost: 19193.63605312559\n",
      "1310 Cost: 19166.63009782156\n",
      "1320 Cost: 19139.938716840767\n",
      "1330 Cost: 19113.555778352526\n",
      "1340 Cost: 19087.475316556392\n",
      "1350 Cost: 19061.69152595914\n",
      "1360 Cost: 19036.198755890306\n",
      "1370 Cost: 19010.991505244983\n",
      "1380 Cost: 18986.06441744241\n",
      "1390 Cost: 18961.41227559045\n",
      "1400 Cost: 18937.02999784575\n",
      "1410 Cost: 18912.912632960433\n",
      "1420 Cost: 18889.055356006706\n",
      "1430 Cost: 18865.45346427076\n",
      "1440 Cost: 18842.102373308357\n",
      "1450 Cost: 18818.99761315455\n",
      "1460 Cost: 18796.134824680485\n",
      "1470 Cost: 18773.509756090625\n",
      "1480 Cost: 18751.118259554067\n",
      "1490 Cost: 18728.956287963814\n",
      "1500 Cost: 18707.019891818585\n",
      "1510 Cost: 18685.305216221404\n",
      "1520 Cost: 18663.808497990107\n",
      "1530 Cost: 18642.526062874724\n",
      "1540 Cost: 18621.454322877136\n",
      "1550 Cost: 18600.589773668715\n",
      "1560 Cost: 18579.928992101566\n",
      "1570 Cost: 18559.468633809513\n",
      "1580 Cost: 18539.20543089501\n",
      "1590 Cost: 18519.136189698398\n",
      "1600 Cost: 18499.257788645988\n",
      "1610 Cost: 18479.56717617381\n",
      "1620 Cost: 18460.061368723804\n",
      "1630 Cost: 18440.73744880968\n",
      "1640 Cost: 18421.592563149246\n",
      "1650 Cost: 18402.62392086098\n",
      "1660 Cost: 18383.828791721888\n",
      "1670 Cost: 18365.20450448441\n",
      "1680 Cost: 18346.74844524992\n",
      "1690 Cost: 18328.45805589667\n",
      "1700 Cost: 18310.33083256\n",
      "1710 Cost: 18292.364324162732\n",
      "1720 Cost: 18274.55613099394\n",
      "1730 Cost: 18256.903903334038\n",
      "1740 Cost: 18239.40534012456\n",
      "1750 Cost: 18222.058187680934\n",
      "1760 Cost: 18204.860238446476\n",
      "1770 Cost: 18187.809329786254\n",
      "1780 Cost: 18170.90334281909\n",
      "1790 Cost: 18154.140201286576\n",
      "1800 Cost: 18137.51787045743\n",
      "1810 Cost: 18121.03435606609\n",
      "1820 Cost: 18104.687703284257\n",
      "1830 Cost: 18088.475995724148\n",
      "1840 Cost: 18072.397354472276\n",
      "1850 Cost: 18056.449937152815\n",
      "1860 Cost: 18040.631937019265\n",
      "1870 Cost: 18024.94158207366\n",
      "1880 Cost: 18009.377134212067\n",
      "1890 Cost: 17993.93688839575\n",
      "1900 Cost: 17978.619171846825\n",
      "1910 Cost: 17963.42234326772\n",
      "1920 Cost: 17948.344792083582\n",
      "1930 Cost: 17933.384937706775\n",
      "1940 Cost: 17918.541228822836\n",
      "1950 Cost: 17903.812142697003\n",
      "1960 Cost: 17889.196184500728\n",
      "1970 Cost: 17874.691886657525\n",
      "1980 Cost: 17860.297808207284\n",
      "1990 Cost: 17846.012534188787\n",
      "2000 Cost: 17831.83467503953\n",
      "2010 Cost: 17817.762866012323\n",
      "2020 Cost: 17803.7957666083\n",
      "2030 Cost: 17789.932060025523\n",
      "2040 Cost: 17776.170452623\n",
      "2050 Cost: 17762.509673399207\n",
      "2060 Cost: 17748.9484734851\n",
      "2070 Cost: 17735.485625650734\n",
      "2080 Cost: 17722.119923825398\n",
      "2090 Cost: 17708.850182630587\n",
      "2100 Cost: 17695.675236925497\n",
      "2110 Cost: 17682.59394136476\n",
      "2120 Cost: 17669.605169967774\n",
      "2130 Cost: 17656.70781569954\n",
      "2140 Cost: 17643.900790062457\n",
      "2150 Cost: 17631.183022698897\n",
      "2160 Cost: 17618.553461003936\n",
      "2170 Cost: 17606.011069748445\n",
      "2180 Cost: 17593.554830711593\n",
      "2190 Cost: 17581.183742323043\n",
      "2200 Cost: 17568.896819314126\n",
      "2210 Cost: 17556.693092377984\n",
      "2220 Cost: 17544.571607838356\n",
      "2230 Cost: 17532.531427326656\n",
      "2240 Cost: 17520.571627467136\n",
      "2250 Cost: 17508.691299570062\n",
      "2260 Cost: 17496.889549332343\n",
      "2270 Cost: 17485.165496545756\n",
      "2280 Cost: 17473.518274812213\n",
      "2290 Cost: 17461.947031266158\n",
      "2300 Cost: 17450.45092630357\n",
      "2310 Cost: 17439.029133317872\n",
      "2320 Cost: 17427.68083844186\n",
      "2330 Cost: 17416.405240296146\n",
      "2340 Cost: 17405.20154974352\n",
      "2350 Cost: 17394.068989649233\n",
      "2360 Cost: 17383.006794646957\n",
      "2370 Cost: 17372.014210910318\n",
      "2380 Cost: 17361.090495929795\n",
      "2390 Cost: 17350.23491829495\n",
      "2400 Cost: 17339.446757481615\n",
      "2410 Cost: 17328.725303644194\n",
      "2420 Cost: 17318.069857412673\n",
      "2430 Cost: 17307.479729694376\n",
      "2440 Cost: 17296.954241480304\n",
      "2450 Cost: 17286.49272365584\n",
      "2460 Cost: 17276.09451681585\n",
      "2470 Cost: 17265.758971084004\n",
      "2480 Cost: 17255.485445936054\n",
      "2490 Cost: 17245.273310027285\n",
      "2500 Cost: 17235.1219410237\n",
      "2510 Cost: 17225.03072543705\n",
      "2520 Cost: 17214.999058463516\n",
      "2530 Cost: 17205.026343825997\n",
      "2540 Cost: 17195.11199361984\n",
      "2550 Cost: 17185.25542816201\n",
      "2560 Cost: 17175.456075843525\n",
      "2570 Cost: 17165.713372985196\n",
      "2580 Cost: 17156.02676369638\n",
      "2590 Cost: 17146.395699736913\n",
      "2600 Cost: 17136.819640381975\n",
      "2610 Cost: 17127.298052289796\n",
      "2620 Cost: 17117.83040937233\n",
      "2630 Cost: 17108.416192668636\n",
      "2640 Cost: 17099.05489022084\n",
      "2650 Cost: 17089.74599695289\n",
      "2660 Cost: 17080.48901455179\n",
      "2670 Cost: 17071.283451351283\n",
      "2680 Cost: 17062.128822218103\n",
      "2690 Cost: 17053.024648440445\n",
      "2700 Cost: 17043.97045761884\n",
      "2710 Cost: 17034.965783559317\n",
      "2720 Cost: 17026.01016616866\n",
      "2730 Cost: 17017.10315135195\n",
      "2740 Cost: 17008.244290912025\n",
      "2750 Cost: 16999.433142451267\n",
      "2760 Cost: 16990.669269275048\n",
      "2770 Cost: 16981.952240297396\n",
      "2780 Cost: 16973.28162994847\n",
      "2790 Cost: 16964.657018083828\n",
      "2800 Cost: 16956.07798989567\n",
      "2810 Cost: 16947.544135825665\n"
     ]
    },
    {
     "name": "stdout",
     "output_type": "stream",
     "text": [
      "2820 Cost: 16939.055051479652\n",
      "2830 Cost: 16930.610337543985\n",
      "2840 Cost: 16922.209599703532\n",
      "2850 Cost: 16913.852448561236\n",
      "2860 Cost: 16905.538499559352\n",
      "2870 Cost: 16897.267372902126\n",
      "2880 Cost: 16889.038693480063\n",
      "2890 Cost: 16880.852090795583\n",
      "2900 Cost: 16872.70719889017\n",
      "2910 Cost: 16864.603656272902\n",
      "2920 Cost: 16856.541105850352\n",
      "2930 Cost: 16848.519194857843\n",
      "2940 Cost: 16840.537574792\n",
      "2950 Cost: 16832.595901344557\n",
      "2960 Cost: 16824.693834337515\n",
      "2970 Cost: 16816.83103765938\n",
      "2980 Cost: 16809.007179202705\n",
      "2990 Cost: 16801.221930802796\n",
      "3000 Cost: 16793.474968177485\n",
      "3010 Cost: 16785.765970868106\n",
      "3020 Cost: 16778.09462218154\n",
      "3030 Cost: 16770.46060913329\n",
      "3040 Cost: 16762.863622391713\n",
      "3050 Cost: 16755.303356223114\n",
      "3060 Cost: 16747.779508437998\n",
      "3070 Cost: 16740.29178033819\n",
      "3080 Cost: 16732.839876665043\n",
      "3090 Cost: 16725.423505548424\n",
      "3100 Cost: 16718.04237845672\n",
      "3110 Cost: 16710.696210147773\n",
      "3120 Cost: 16703.38471862059\n",
      "3130 Cost: 16696.107625068027\n",
      "3140 Cost: 16688.864653830216\n",
      "3150 Cost: 16681.655532348934\n",
      "3160 Cost: 16674.47999112263\n",
      "3170 Cost: 16667.33776366241\n",
      "3180 Cost: 16660.228586448673\n",
      "3190 Cost: 16653.152198888554\n",
      "3200 Cost: 16646.108343274132\n",
      "3210 Cost: 16639.096764741327\n",
      "3220 Cost: 16632.11721122954\n",
      "3230 Cost: 16625.169433441948\n",
      "3240 Cost: 16618.253184806552\n",
      "3250 Cost: 16611.368221437868\n",
      "3260 Cost: 16604.514302099215\n",
      "3270 Cost: 16597.691188165754\n",
      "3280 Cost: 16590.898643588083\n",
      "3290 Cost: 16584.13643485645\n",
      "3300 Cost: 16577.404330965655\n",
      "3310 Cost: 16570.70210338041\n",
      "3320 Cost: 16564.02952600141\n",
      "3330 Cost: 16557.386375131893\n",
      "3340 Cost: 16550.772429444816\n",
      "3350 Cost: 16544.187469950502\n",
      "3360 Cost: 16537.631279964928\n",
      "3370 Cost: 16531.103645078463\n",
      "3380 Cost: 16524.60435312512\n",
      "3390 Cost: 16518.13319415237\n",
      "3400 Cost: 16511.689960391428\n",
      "3410 Cost: 16505.274446228002\n",
      "3420 Cost: 16498.886448173515\n",
      "3430 Cost: 16492.525764836893\n",
      "3440 Cost: 16486.192196896667\n",
      "3450 Cost: 16479.885547073616\n",
      "3460 Cost: 16473.605620103852\n",
      "3470 Cost: 16467.35222271232\n",
      "3480 Cost: 16461.12516358671\n",
      "3490 Cost: 16454.92425335176\n",
      "3500 Cost: 16448.749304544122\n",
      "3510 Cost: 16442.600131587387\n",
      "3520 Cost: 16436.476550767744\n",
      "3530 Cost: 16430.37838020981\n",
      "3540 Cost: 16424.30543985305\n",
      "3550 Cost: 16418.257551428404\n",
      "3560 Cost: 16412.234538435336\n",
      "3570 Cost: 16406.236226119305\n",
      "3580 Cost: 16400.262441449442\n",
      "3590 Cost: 16394.313013096755\n",
      "3600 Cost: 16388.387771412512\n",
      "3610 Cost: 16382.486548407056\n",
      "3620 Cost: 16376.609177728926\n",
      "3630 Cost: 16370.755494644254\n",
      "3640 Cost: 16364.925336016537\n",
      "3650 Cost: 16359.118540286701\n",
      "3660 Cost: 16353.334947453477\n",
      "3670 Cost: 16347.574399054\n",
      "3680 Cost: 16341.836738144833\n",
      "3690 Cost: 16336.121809283166\n",
      "3700 Cost: 16330.429458508383\n",
      "3710 Cost: 16324.759533323811\n",
      "3720 Cost: 16319.111882678853\n",
      "3730 Cost: 16313.486356951289\n",
      "3740 Cost: 16307.882807929918\n",
      "3750 Cost: 16302.301088797385\n",
      "3760 Cost: 16296.741054113358\n",
      "3770 Cost: 16291.202559797854\n",
      "3780 Cost: 16285.685463114858\n",
      "3790 Cost: 16280.189622656217\n",
      "3800 Cost: 16274.714898325701\n",
      "3810 Cost: 16269.261151323353\n",
      "3820 Cost: 16263.828244130007\n",
      "3830 Cost: 16258.416040492122\n",
      "3840 Cost: 16253.024405406763\n",
      "3850 Cost: 16247.653205106797\n",
      "3860 Cost: 16242.302307046368\n",
      "3870 Cost: 16236.97157988651\n",
      "3880 Cost: 16231.66089348101\n",
      "3890 Cost: 16226.370118862464\n",
      "3900 Cost: 16221.099128228527\n",
      "3910 Cost: 16215.847794928335\n",
      "3920 Cost: 16210.615993449197\n",
      "3930 Cost: 16205.403599403387\n",
      "3940 Cost: 16200.210489515164\n",
      "3950 Cost: 16195.036541607984\n",
      "3960 Cost: 16189.881634591904\n",
      "3970 Cost: 16184.745648451064\n",
      "3980 Cost: 16179.628464231488\n",
      "3990 Cost: 16174.529964028989\n",
      "4000 Cost: 16169.450030977188\n",
      "4010 Cost: 16164.388549235773\n",
      "4020 Cost: 16159.345403978943\n",
      "4030 Cost: 16154.320481383918\n",
      "4040 Cost: 16149.313668619656\n",
      "4050 Cost: 16144.324853835775\n",
      "4060 Cost: 16139.353926151522\n",
      "4070 Cost: 16134.400775645\n",
      "4080 Cost: 16129.465293342446\n",
      "4090 Cost: 16124.54737120774\n",
      "4100 Cost: 16119.646902131995\n",
      "4110 Cost: 16114.763779923327\n",
      "4120 Cost: 16109.89789929674\n",
      "4130 Cost: 16105.049155864133\n",
      "4140 Cost: 16100.217446124509\n",
      "4150 Cost: 16095.402667454226\n",
      "4160 Cost: 16090.604718097446\n",
      "4170 Cost: 16085.823497156693\n",
      "4180 Cost: 16081.0589045835\n",
      "4190 Cost: 16076.310841169228\n",
      "4200 Cost: 16071.579208536024\n",
      "4210 Cost: 16066.863909127804\n",
      "4220 Cost: 16062.164846201458\n",
      "4230 Cost: 16057.48192381812\n",
      "4240 Cost: 16052.815046834541\n",
      "4250 Cost: 16048.164120894637\n",
      "4260 Cost: 16043.52905242105\n",
      "4270 Cost: 16038.909748606933\n",
      "4280 Cost: 16034.306117407727\n",
      "4290 Cost: 16029.71806753315\n",
      "4300 Cost: 16025.145508439222\n",
      "4310 Cost: 16020.588350320377\n",
      "4320 Cost: 16016.046504101774\n",
      "4330 Cost: 16011.519881431603\n",
      "4340 Cost: 16007.00839467354\n",
      "4350 Cost: 16002.511956899267\n",
      "4360 Cost: 15998.030481881182\n",
      "4370 Cost: 15993.563884085022\n",
      "4380 Cost: 15989.112078662782\n",
      "4390 Cost: 15984.67498144557\n",
      "4400 Cost: 15980.25250893664\n",
      "4410 Cost: 15975.844578304479\n",
      "4420 Cost: 15971.451107375946\n",
      "4430 Cost: 15967.072014629632\n",
      "4440 Cost: 15962.707219189091\n",
      "4450 Cost: 15958.35664081635\n",
      "4460 Cost: 15954.020199905412\n",
      "4470 Cost: 15949.697817475824\n",
      "4480 Cost: 15945.389415166377\n",
      "4490 Cost: 15941.09491522883\n",
      "4500 Cost: 15936.814240521779\n",
      "4510 Cost: 15932.547314504527\n",
      "4520 Cost: 15928.29406123106\n",
      "4530 Cost: 15924.054405344163\n",
      "4540 Cost: 15919.828272069455\n",
      "4550 Cost: 15915.61558720965\n",
      "4560 Cost: 15911.41627713882\n",
      "4570 Cost: 15907.230268796715\n",
      "4580 Cost: 15903.057489683173\n",
      "4590 Cost: 15898.897867852615\n",
      "4600 Cost: 15894.751331908557\n",
      "4610 Cost: 15890.617810998248\n",
      "4620 Cost: 15886.497234807326\n",
      "4630 Cost: 15882.389533554546\n",
      "4640 Cost: 15878.294637986603\n",
      "4650 Cost: 15874.212479372965\n",
      "4660 Cost: 15870.142989500837\n",
      "4670 Cost: 15866.086100670082\n",
      "4680 Cost: 15862.041745688324\n",
      "4690 Cost: 15858.009857866014\n",
      "4700 Cost: 15853.990371011612\n",
      "4710 Cost: 15849.983219426786\n",
      "4720 Cost: 15845.988337901663\n",
      "4730 Cost: 15842.005661710225\n",
      "4740 Cost: 15838.03512660562\n",
      "4750 Cost: 15834.076668815642\n",
      "4760 Cost: 15830.13022503819\n",
      "4770 Cost: 15826.19573243684\n",
      "4780 Cost: 15822.273128636429\n",
      "4790 Cost: 15818.362351718677\n",
      "4800 Cost: 15814.46334021793\n",
      "4810 Cost: 15810.57603311684\n",
      "4820 Cost: 15806.700369842223\n",
      "4830 Cost: 15802.836290260868\n",
      "4840 Cost: 15798.983734675418\n",
      "4850 Cost: 15795.142643820338\n",
      "4860 Cost: 15791.312958857869\n",
      "4870 Cost: 15787.49462137408\n",
      "4880 Cost: 15783.6875733749\n",
      "4890 Cost: 15779.891757282317\n",
      "4900 Cost: 15776.107115930457\n",
      "4910 Cost: 15772.333592561823\n",
      "4920 Cost: 15768.571130823551\n",
      "4930 Cost: 15764.8196747637\n",
      "4940 Cost: 15761.079168827555\n",
      "4950 Cost: 15757.349557854048\n",
      "4960 Cost: 15753.630787072138\n",
      "4970 Cost: 15749.922802097271\n",
      "4980 Cost: 15746.225548927872\n",
      "4990 Cost: 15742.538973941904\n",
      "Test set accuracy: 0.9113142857142857\n"
     ]
    }
   ],
   "source": [
    "import numpy as np\n",
    "\n",
    "m = x_train.shape[0]\n",
    "n = x_train.shape[1]\n",
    "N = 10\n",
    "\n",
    "\n",
    "#Encoding y into one-hot scheme. T in notational form\n",
    "one_hot = np.zeros((y_train.shape[0],N))\n",
    "\n",
    "for t,yy in zip(one_hot,y_train):\n",
    "    t[int(yy)]=1 \n",
    "\n",
    "#initilize Phi training\n",
    "Phitraining = np.hstack((x_train,np.ones((x_train.shape[0],1))))\n",
    "\n",
    "#start with random weights\n",
    "w = np.random.randn(n+1,N)*1e-4\n",
    "\n",
    "#weighted matrix achieved using matrix multiplication. A in notational form\n",
    "wgt_mat = Phitraining @ w\n",
    "\n",
    "\n",
    "def L(T,S): #borrowing previously made code -- cross-entropy\n",
    "    return -np.sum(T*np.log(S))\n",
    "\n",
    "def gradient(y_obs,y_pred,Phi): #borrowing gradient function \n",
    "    return - Phi.T @ (one_hot - y_pred)\n",
    "\n",
    "def softmax(A): #softmax\n",
    "    numerator = np.exp(A)\n",
    "    denominator = numerator.sum(axis=1)\n",
    "    return numerator/denominator[:,np.newaxis]\n",
    "\n",
    "S = softmax(Phitraining@w)\n",
    "\n",
    "\n",
    "eta = 1e-6\n",
    "L_record = []\n",
    "for t in range(5000):\n",
    "    L_record.append(L(one_hot,S))\n",
    "    S = softmax(Phitraining@w)\n",
    "    g = gradient(one_hot,S,Phitraining)\n",
    "    w -= eta*g\n",
    "    if t%10 == 0:\n",
    "        print(t,'Cost:', L_record[t])\n",
    "   \n",
    "#watching the regression below\n",
    "#print(L_record)\n",
    "Phitest = np.hstack((x_test,np.ones((x_test.shape[0],1))))\n",
    "S = softmax(Phitest @ w)\n",
    "y_pred = np.argmax(S,axis=1)\n",
    "\n",
    "\n",
    "Phi_test = np.hstack((x_test,np.ones((x_test.shape[0],1))))\n",
    "S_test = softmax(Phi_test@w)\n",
    "y_pred = np.argmax(S_test,axis=1)\n",
    "\n",
    "\n",
    "desired_array = [int(numeric_string) for numeric_string in y_test]\n",
    "print('Test set accuracy:', np.sum(y_pred == desired_array)/len(y_pred))\n"
   ]
  },
  {
   "cell_type": "code",
   "execution_count": null,
   "metadata": {},
   "outputs": [],
   "source": []
  },
  {
   "cell_type": "markdown",
   "metadata": {},
   "source": [
    "## 4 Visualizing MNIST weights (25 pts)\n",
    "Assuming that you've implemented softmax regression correctly, we'll have 785 weights associated with each class (if you use similar code to what I used for irises, this will be the 785 by 10 matrix $W$).  Recognizing that one of these 785 weights is the bias, that means that the remaining 784 weights (per class) are associated with exactly 1 pixel in the input image, and we can thus organize our weights into an *image*.  By doing this, we can learn a bit about the coherent structure that the softmax regressor is learning!\n",
    "\n",
    "**Reshape your learned weights (excluding the bias parameters) to be an image of the same shape as the MNIST dataset (28 by 28).  Produce a plot of each of these ten images.**  You should see a fairly clear picture emerge. if you're seeing something that looks like white noise, then check to ensure you are reshaping the array in the correct order."
   ]
  },
  {
   "cell_type": "code",
   "execution_count": 6,
   "metadata": {},
   "outputs": [
    {
     "data": {
      "image/png": "[encoded data removed]",
      "text/plain": [
       "<Figure size 432x288 with 2 Axes>"
      ]
     },
     "metadata": {
      "needs_background": "light"
     },
     "output_type": "display_data"
    },
    {
     "data": {
      "image/png": "[encoded data removed]",
      "text/plain": [
       "<Figure size 432x288 with 2 Axes>"
      ]
     },
     "metadata": {
      "needs_background": "light"
     },
     "output_type": "display_data"
    },
    {
     "data": {
      "image/png": "[encoded data removed]",
      "text/plain": [
       "<Figure size 432x288 with 2 Axes>"
      ]
     },
     "metadata": {
      "needs_background": "light"
     },
     "output_type": "display_data"
    },
    {
     "data": {
      "image/png": "[encoded data removed]",
      "text/plain": [
       "<Figure size 432x288 with 2 Axes>"
      ]
     },
     "metadata": {
      "needs_background": "light"
     },
     "output_type": "display_data"
    },
    {
     "data": {
      "image/png": "[encoded data removed]",
      "text/plain": [
       "<Figure size 432x288 with 2 Axes>"
      ]
     },
     "metadata": {
      "needs_background": "light"
     },
     "output_type": "display_data"
    },
    {
     "data": {
      "image/png": "[encoded data removed]",
      "text/plain": [
       "<Figure size 432x288 with 2 Axes>"
      ]
     },
     "metadata": {
      "needs_background": "light"
     },
     "output_type": "display_data"
    },
    {
     "data": {
      "image/png": "[encoded data removed]",
      "text/plain": [
       "<Figure size 432x288 with 2 Axes>"
      ]
     },
     "metadata": {
      "needs_background": "light"
     },
     "output_type": "display_data"
    },
    {
     "data": {
      "image/png": "[encoded data removed]",
      "text/plain": [
       "<Figure size 432x288 with 2 Axes>"
      ]
     },
     "metadata": {
      "needs_background": "light"
     },
     "output_type": "display_data"
    },
    {
     "data": {
      "image/png": "[encoded data removed]",
      "text/plain": [
       "<Figure size 432x288 with 2 Axes>"
      ]
     },
     "metadata": {
      "needs_background": "light"
     },
     "output_type": "display_data"
    },
    {
     "data": {
      "image/png": "[encoded data removed]",
      "text/plain": [
       "<Figure size 432x288 with 2 Axes>"
      ]
     },
     "metadata": {
      "needs_background": "light"
     },
     "output_type": "display_data"
    }
   ],
   "source": [
    "wmodified = np.transpose(w)\n",
    "\n",
    "for thing in wmodified:\n",
    "    plt.imshow(thing[1:].reshape(28,28))\n",
    "    plt.colorbar()\n",
    "    plt.show()"
   ]
  },
  {
   "cell_type": "markdown",
   "metadata": {},
   "source": [
    "**Use these pictures of the weights to explain to me how softmax regression works as if I was your grandparent.  (This section will be graded both on technical correctness and accessibility!)**"
   ]
  },
  {
   "cell_type": "code",
   "execution_count": null,
   "metadata": {},
   "outputs": [],
   "source": [
    "#We are determining how to identify these numbers by creating 10 different shapes that could be on any of these numbers and we\n",
    "#then calculate to which degree they line up.\n",
    "#We achieve these shapes by using something called softmax regression. The regression is just working downhill to fix a minimum \n",
    "#of a function. That will be the gradient (or steepness we want to set our line to) times a very small number to slowly work our\n",
    "#way down and make sure we don't over shoot the minimum and essentially go through the earth of our conceptual slope.\n",
    "#The softmax itself is just taking the items in our matrix, raising it by an exponent, and then dividing by the sum of all items\n",
    "#in that matrix. If we back up a moment, it is really just a function of bayesian probability, squished down by a log.\n",
    "#so, ln of the whole bayesian theorem P(x|y) = P(y|x) * P(X) / all things that could happen. This is repeated over and over \n",
    "#until we get very accurate probabilities. "
   ]
  }
 ],
 "metadata": {
  "kernelspec": {
   "display_name": "Python 3",
   "language": "python",
   "name": "python3"
  },
  "language_info": {
   "codemirror_mode": {
    "name": "ipython",
    "version": 3
   },
   "file_extension": ".py",
   "mimetype": "text/x-python",
   "name": "python",
   "nbconvert_exporter": "python",
   "pygments_lexer": "ipython3",
   "version": "3.8.3"
  }
 },
 "nbformat": 4,
 "nbformat_minor": 2
}
